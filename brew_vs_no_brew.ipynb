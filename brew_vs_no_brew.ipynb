{
 "cells": [
  {
   "cell_type": "code",
   "execution_count": 5,
   "metadata": {},
   "outputs": [],
   "source": [
    "from player import Player\n",
    "from dharok_duel import simulate_game, strategy6"
   ]
  },
  {
   "cell_type": "code",
   "execution_count": 6,
   "metadata": {},
   "outputs": [],
   "source": [
    "def strategy6_no_brew(player, opponent):\n",
    "    opponent_max_hit = 44 + (42 * ((99 - opponent.hp) // 98))\n",
    "    if opponent_max_hit < player.hp:\n",
    "        player.throw_knives(opponent)\n",
    "        player.attack(opponent)\n",
    "    else:\n",
    "        if player.hp + 38 <= 99 and player.shark_count > 0 and player.karambwan_count > 0:\n",
    "            player.eat_shark_and_karambwan()\n",
    "        elif player.shark_count > 0:\n",
    "            player.eat_shark()\n",
    "        else:\n",
    "            player.throw_knives(opponent)\n",
    "            player.attack(opponent)"
   ]
  },
  {
   "cell_type": "code",
   "execution_count": 10,
   "metadata": {},
   "outputs": [
    {
     "data": {
      "text/plain": [
       "63.06"
      ]
     },
     "execution_count": 10,
     "metadata": {},
     "output_type": "execute_result"
    }
   ],
   "source": [
    "n_sims = 10000\n",
    "\n",
    "wins = 0\n",
    "for _ in range(n_sims):\n",
    "    winner = simulate_game(strategy6, strategy6_no_brew)\n",
    "    if winner == \"Player 1\":\n",
    "        wins += 1\n",
    "\n",
    "100 * wins / n_sims"
   ]
  },
  {
   "cell_type": "code",
   "execution_count": null,
   "metadata": {},
   "outputs": [],
   "source": []
  }
 ],
 "metadata": {
  "kernelspec": {
   "display_name": "Python 3",
   "language": "python",
   "name": "python3"
  },
  "language_info": {
   "codemirror_mode": {
    "name": "ipython",
    "version": 3
   },
   "file_extension": ".py",
   "mimetype": "text/x-python",
   "name": "python",
   "nbconvert_exporter": "python",
   "pygments_lexer": "ipython3",
   "version": "3.11.1"
  }
 },
 "nbformat": 4,
 "nbformat_minor": 2
}
